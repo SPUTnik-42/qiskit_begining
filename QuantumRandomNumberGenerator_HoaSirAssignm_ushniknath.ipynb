{
 "cells": [
  {
   "cell_type": "markdown",
   "metadata": {},
   "source": [
    "**Quantum Random Number Generator** : \n",
    "\n",
    "- Create a Python function take an input of a positive integer n and create a coresponding quantum circuit to generate a list of 2n (truly) random positive integers, each using a maximum of n bits and represent the result in decimals. Execute your circuit in a quantum simulator (or any Qiskit FakeBackend).\n",
    "- Example: generate_random_list(3) - Output: [3, 2, 5, 1, 6, 7] \n",
    "- Hint: A simple quantum circuit is enough. You may only need to use 1 type of quantum gate, but feel free to be creative."
   ]
  },
  {
   "cell_type": "code",
   "execution_count": 10,
   "metadata": {},
   "outputs": [
    {
     "data": {
      "text/plain": [
       "{'qiskit-terra': '0.23.2', 'qiskit-aer': '0.11.2', 'qiskit-ignis': None, 'qiskit-ibmq-provider': '0.20.1', 'qiskit': '0.41.1', 'qiskit-nature': None, 'qiskit-finance': None, 'qiskit-optimization': None, 'qiskit-machine-learning': None}"
      ]
     },
     "execution_count": 10,
     "metadata": {},
     "output_type": "execute_result"
    }
   ],
   "source": [
    "import qiskit\n",
    "import numpy as np\n",
    "from qiskit import QuantumRegister, ClassicalRegister, QuantumCircuit\n",
    "from qiskit import BasicAer, execute\n",
    "from qiskit import IBMQ\n",
    "from qiskit.providers.ibmq import least_busy\n",
    "qiskit.__qiskit_version__"
   ]
  },
  {
   "cell_type": "markdown",
   "metadata": {},
   "source": [
    "- We already know that quantum superposition is inherently random. We can leverage that to create a simple \n",
    "quantum random number generator\n",
    "\n",
    "- We can easily create a superposition using a single gate ( the hadamard gate or the RX gate)\n",
    "\n",
    "- n qubits can make 2^n numbers , we can later convert the binary to decimal for interpretable representation"
   ]
  },
  {
   "cell_type": "code",
   "execution_count": 11,
   "metadata": {},
   "outputs": [],
   "source": [
    "def generate_random_list(n):\n",
    "    q = QuantumRegister(n)\n",
    "    c = ClassicalRegister(n)\n",
    "    circuit = QuantumCircuit(q, c)\n",
    "    \n",
    "    # apply hadamard gate to n qubits\n",
    "    for j in range(n):\n",
    "        circuit.h(q[j])\n",
    "\n",
    "    circuit.measure(q,c)\n",
    "\n",
    "    job = execute(circuit, BasicAer.get_backend('qasm_simulator'), shots=4242)\n",
    "\n",
    "    result = job.result().get_counts()\n",
    "    output = []\n",
    "\n",
    "    for bitstring in result:\n",
    "        output.append( int(bitstring,2) )\n",
    "    \n",
    "    return output[:6] # for 2n outputs"
   ]
  },
  {
   "cell_type": "code",
   "execution_count": 12,
   "metadata": {},
   "outputs": [
    {
     "name": "stdout",
     "output_type": "stream",
     "text": [
      "[2, 1, 6, 4, 7, 0]\n"
     ]
    }
   ],
   "source": [
    "print(generate_random_list(3))"
   ]
  },
  {
   "cell_type": "code",
   "execution_count": 13,
   "metadata": {},
   "outputs": [],
   "source": [
    "def generate_random_list_m(n,gate):\n",
    "    q = QuantumRegister(n)\n",
    "    c = ClassicalRegister(n)\n",
    "    circuit = QuantumCircuit(q, c)\n",
    "    \n",
    "    # apply hadamard gate to n qubits\n",
    "    for j in range(n):\n",
    "        if gate == 'h':\n",
    "            circuit.h(q[j])\n",
    "        elif gate == 'rx':\n",
    "            circuit.rx(np.pi/2,q[j])\n",
    "\n",
    "    circuit.measure(q,c)\n",
    "\n",
    "    job = execute(circuit, BasicAer.get_backend('qasm_simulator'), shots=4242)\n",
    "\n",
    "    result = job.result().get_counts()\n",
    "    output = []\n",
    "\n",
    "    for bitstring in result:\n",
    "        output.append( int(bitstring,2) )\n",
    "    \n",
    "    return output[:6] # for 2n outputs"
   ]
  },
  {
   "cell_type": "code",
   "execution_count": 14,
   "metadata": {},
   "outputs": [
    {
     "name": "stdout",
     "output_type": "stream",
     "text": [
      "[0, 2, 6, 7, 1, 4]\n"
     ]
    }
   ],
   "source": [
    "print(generate_random_list_m(3,'rx'))"
   ]
  },
  {
   "cell_type": "code",
   "execution_count": 27,
   "metadata": {},
   "outputs": [],
   "source": [
    "def generate_random_list_graph(n):\n",
    "    q = QuantumRegister(n)\n",
    "    c = ClassicalRegister(n)\n",
    "    circuit = QuantumCircuit(q, c)\n",
    "    \n",
    "    # apply hadamard gate to n qubits\n",
    "    for j in range(n):\n",
    "        circuit.h(q[j])\n",
    "\n",
    "    circuit.measure(q,c)\n",
    "\n",
    "    job = execute(circuit, BasicAer.get_backend('qasm_simulator'), shots=4242)\n",
    "\n",
    "    result = job.result().get_counts()\n",
    "    output = {}\n",
    "\n",
    "    for bitstring in result:\n",
    "        output[ int(bitstring,2) ] = result[bitstring]\n",
    "        \n",
    "    \n",
    "    from qiskit.tools.visualization import plot_histogram    \n",
    "    return plot_histogram(output)"
   ]
  },
  {
   "cell_type": "code",
   "execution_count": 28,
   "metadata": {},
   "outputs": [
    {
     "data": {
      "image/png": "[encoded data removed]",
      "text/plain": [
       "<Figure size 700x500 with 1 Axes>"
      ]
     },
     "execution_count": 28,
     "metadata": {},
     "output_type": "execute_result"
    }
   ],
   "source": [
    "generate_random_list_graph(3)"
   ]
  },
  {
   "cell_type": "markdown",
   "metadata": {},
   "source": [
    "References : \n",
    "\n",
    "- Qiskit tutorials\n",
    "- https://digitalcommons.pace.edu/cgi/viewcontent.cgi?article=1295&context=honorscollege_theses\n",
    "- DOI:10.47869/tcsj.75.4.14\n",
    "- https://doi.org/10.1140/epjqt/s40507-023-00174-1\n"
   ]
  }
 ],
 "metadata": {
  "kernelspec": {
   "display_name": "qiskit-1",
   "language": "python",
   "name": "qiskit-1"
  },
  "language_info": {
   "codemirror_mode": {
    "name": "ipython",
    "version": 3
   },
   "file_extension": ".py",
   "mimetype": "text/x-python",
   "name": "python",
   "nbconvert_exporter": "python",
   "pygments_lexer": "ipython3",
   "version": "3.9.13"
  }
 },
 "nbformat": 4,
 "nbformat_minor": 2
}
